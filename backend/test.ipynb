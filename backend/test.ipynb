{
 "cells": [
  {
   "cell_type": "code",
   "execution_count": 1,
   "id": "8b27eaf4",
   "metadata": {},
   "outputs": [],
   "source": [
    "# https://github.com/reddit-archive/reddit/wiki/OAuth2\n",
    "import os\n",
    "CLIENT_ID = os.getenv(\"CLIENT_ID\")\n",
    "SECRET = os.getenv(\"SECRET\")"
   ]
  },
  {
   "cell_type": "code",
   "execution_count": 3,
   "id": "4958c60d",
   "metadata": {},
   "outputs": [],
   "source": [
    "import requests\n",
    "auth = requests.auth.HTTPBasicAuth(CLIENT_ID, SECRET)\n",
    "headers = {\n",
    "    \"User-Agent\": \"AutoReddit/1.0\"\n",
    "}\n",
    "data = {\n",
    "    \"grant_type\": \"client_credentials\"\n",
    "}\n",
    "response = requests.post(\"https://www.reddit.com/api/v1/access_token\", auth=auth, headers=headers, data=data)\n",
    "TOKEN = response.json()[\"access_token\"]"
   ]
  },
  {
   "cell_type": "code",
   "execution_count": 4,
   "id": "4b958742",
   "metadata": {},
   "outputs": [],
   "source": [
    "headers[\"Authorization\"] = f\"bearer {TOKEN}\"\n",
    "r = requests.get('https://oauth.reddit.com/r/ycombinator/new', headers=headers)\n"
   ]
  },
  {
   "cell_type": "code",
   "execution_count": 5,
   "id": "dab0e7df",
   "metadata": {},
   "outputs": [],
   "source": [
    "import pandas as pd\n",
    "\n",
    "posts = r.json()['data']['children']\n",
    "postsDF = pd.DataFrame([post['data'] for post in posts])\n",
    "    "
   ]
  },
  {
   "cell_type": "code",
   "execution_count": 6,
   "id": "1a77aceb",
   "metadata": {},
   "outputs": [
    {
     "data": {
      "text/plain": [
       "25"
      ]
     },
     "execution_count": 6,
     "metadata": {},
     "output_type": "execute_result"
    }
   ],
   "source": [
    "len(postsDF)"
   ]
  },
  {
   "cell_type": "code",
   "execution_count": 7,
   "id": "3ddda569",
   "metadata": {},
   "outputs": [
    {
     "name": "stdout",
     "output_type": "stream",
     "text": [
      "approved_at_utc\n",
      "subreddit\n",
      "selftext\n",
      "author_fullname\n",
      "saved\n",
      "mod_reason_title\n",
      "gilded\n",
      "clicked\n",
      "title\n",
      "link_flair_richtext\n",
      "subreddit_name_prefixed\n",
      "hidden\n",
      "pwls\n",
      "link_flair_css_class\n",
      "downs\n",
      "thumbnail_height\n",
      "top_awarded_type\n",
      "hide_score\n",
      "name\n",
      "quarantine\n",
      "link_flair_text_color\n",
      "upvote_ratio\n",
      "author_flair_background_color\n",
      "subreddit_type\n",
      "ups\n",
      "total_awards_received\n",
      "media_embed\n",
      "thumbnail_width\n",
      "author_flair_template_id\n",
      "is_original_content\n",
      "user_reports\n",
      "secure_media\n",
      "is_reddit_media_domain\n",
      "is_meta\n",
      "category\n",
      "secure_media_embed\n",
      "link_flair_text\n",
      "can_mod_post\n",
      "score\n",
      "approved_by\n",
      "is_created_from_ads_ui\n",
      "author_premium\n",
      "thumbnail\n",
      "edited\n",
      "author_flair_css_class\n",
      "author_flair_richtext\n",
      "gildings\n",
      "post_hint\n",
      "content_categories\n",
      "is_self\n",
      "mod_note\n",
      "created\n",
      "link_flair_type\n",
      "wls\n",
      "removed_by_category\n",
      "banned_by\n",
      "author_flair_type\n",
      "domain\n",
      "allow_live_comments\n",
      "selftext_html\n",
      "likes\n",
      "suggested_sort\n",
      "banned_at_utc\n",
      "view_count\n",
      "archived\n",
      "no_follow\n",
      "is_crosspostable\n",
      "pinned\n",
      "over_18\n",
      "preview\n",
      "all_awardings\n",
      "awarders\n",
      "media_only\n",
      "can_gild\n",
      "spoiler\n",
      "locked\n",
      "author_flair_text\n",
      "treatment_tags\n",
      "visited\n",
      "removed_by\n",
      "num_reports\n",
      "distinguished\n",
      "subreddit_id\n",
      "author_is_blocked\n",
      "mod_reason_by\n",
      "removal_reason\n",
      "link_flair_background_color\n",
      "id\n",
      "is_robot_indexable\n",
      "report_reasons\n",
      "author\n",
      "discussion_type\n",
      "num_comments\n",
      "send_replies\n",
      "contest_mode\n",
      "mod_reports\n",
      "author_patreon_flair\n",
      "author_flair_text_color\n",
      "permalink\n",
      "stickied\n",
      "url\n",
      "subreddit_subscribers\n",
      "created_utc\n",
      "num_crossposts\n",
      "media\n",
      "is_video\n",
      "author_cakeday\n"
     ]
    }
   ],
   "source": [
    "for s in postsDF.columns:\n",
    "    print(s)"
   ]
  },
  {
   "cell_type": "code",
   "execution_count": null,
   "id": "9019a154",
   "metadata": {},
   "outputs": [],
   "source": []
  }
 ],
 "metadata": {
  "kernelspec": {
   "display_name": ".venv",
   "language": "python",
   "name": "python3"
  },
  "language_info": {
   "codemirror_mode": {
    "name": "ipython",
    "version": 3
   },
   "file_extension": ".py",
   "mimetype": "text/x-python",
   "name": "python",
   "nbconvert_exporter": "python",
   "pygments_lexer": "ipython3",
   "version": "3.13.4"
  }
 },
 "nbformat": 4,
 "nbformat_minor": 5
}
